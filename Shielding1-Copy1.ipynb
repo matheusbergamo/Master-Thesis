{
 "cells": [
  {
   "cell_type": "code",
   "execution_count": 15,
   "id": "464f400f-d326-442f-b180-d5014fba3c3b",
   "metadata": {
    "tags": []
   },
   "outputs": [],
   "source": [
    "import numpy as np\n",
    "import scipy.optimize as sci\n",
    "from scipy import constants\n",
    "import pandas as pd\n",
    "from scipy.integrate import quad\n",
    "import scipy.optimize as optimization\n",
    "import sigfig as sf"
   ]
  },
  {
   "cell_type": "code",
   "execution_count": 5,
   "id": "80e3f5be-2a52-475f-89aa-a408d351b8bd",
   "metadata": {
    "tags": []
   },
   "outputs": [],
   "source": [
    "# For rounding up to significant digits correctly\n",
    "from math import floor, log10\n",
    "\n",
    "def fexp(f):\n",
    "    return int(floor(log10(abs(f)))) if f != 0 else 0\n",
    "\n",
    "def fman(f):\n",
    "    return f/10**fexp(f)"
   ]
  },
  {
   "cell_type": "code",
   "execution_count": 6,
   "id": "b71ed538-3dbc-41d7-962e-89465031024a",
   "metadata": {
    "tags": []
   },
   "outputs": [],
   "source": [
    "import matplotlib.pyplot as mpl\n",
    "import matplotlib.pyplot as plt\n",
    "import matplotlib.colors as clr\n",
    "import seaborn as sns\n",
    "plt.style.use(['science', 'notebook', 'grid'])\n",
    "tex_fonts = {\n",
    "    # Use LaTeX to write all text\n",
    "    \"text.usetex\": True,\n",
    "    \"font.family\": \"serif\",\n",
    "    # # Use 9pt font in plots, to match 9pt caption fontsize in RevTeX\n",
    "    # \"axes.labelsize\": 9,\n",
    "    # \"font.size\": 9,\n",
    "    # # Make the legend/label fonts a little smaller\n",
    "    # \"legend.fontsize\": 8,\n",
    "    # \"figure.titlesize\": 8,\n",
    "    # \"xtick.labelsize\": 8,\n",
    "    # \"ytick.labelsize\": 8,\n",
    "    \"lines.linewidth\": 1,\n",
    "    \"xtick.major.width\": 0.5,\n",
    "    \"xtick.minor.width\": 0.5,\n",
    "    \"ytick.major.width\": 0.5,\n",
    "    \"ytick.minor.width\": 0.5,\n",
    "    \"axes.linewidth\": 0.5\n",
    "}\n",
    "plt.rcParams.update(tex_fonts)"
   ]
  },
  {
   "cell_type": "code",
   "execution_count": 7,
   "id": "ddb7ad70-7f62-460e-983d-172f55783447",
   "metadata": {},
   "outputs": [
    {
     "data": {
      "text/plain": [
       "<matplotlib.legend.Legend at 0x7f3b2dbf5eb0>"
      ]
     },
     "execution_count": 7,
     "metadata": {},
     "output_type": "execute_result"
    },
    {
     "data": {
      "image/png": "[encoded data removed]",
      "text/plain": [
       "<Figure size 576x432 with 1 Axes>"
      ]
     },
     "metadata": {
      "needs_background": "light"
     },
     "output_type": "display_data"
    }
   ],
   "source": [
    "def f(t, C, μ): # Função a ser ajustada: Lei de LAMBERT-bEER\n",
    "    return C*np.exp(-μ*t)\n",
    "\n",
    "# Simulation data\n",
    "t = [15, 30, 45, 60, 75, 0, 5, 10, 20]\n",
    "dpa = [4.83891e-25, 1.20641e-25, 5.67515e-26, 3.71979e-26, 1.05042e-26, 2.60499e-22, 3.35645e-24, 9.221e-25, 1.82068e-25]\n",
    "udpa = [0.0696352, 0.410312, 0.607292, 0.998167, 1, 0.00699652, 0.0860885, 0.172292, 0.395458]\n",
    "\n",
    "# Uncertainty calculation\n",
    "σdpa = np.multiply(dpa,udpa)\n",
    "\n",
    "# Creating Data Frame from the input and calculated results\n",
    "df = pd.DataFrame({'Thickness (cm)' : t,\n",
    "                   'DPA'            : dpa,\n",
    "                   'σDPA'           : σdpa,\n",
    "                  })\n",
    "\n",
    "# Reordering based on descending DPA value\n",
    "df = df.sort_values(by='DPA', ascending=False, ignore_index=True)\n",
    "#display(df)\n",
    "\n",
    "# Selecting data interval\n",
    "a = 1\n",
    "b = len(df['Thickness (cm)'])\n",
    "\n",
    "# Ploting Data\n",
    "plt.errorbar(df['Thickness (cm)'][a:b], df['DPA'][a:b], # Data\n",
    "             df['σDPA'][a:b],                           # Uncertainty on y values\n",
    "             fmt='o',\n",
    "             ecolor = 'black', \n",
    "             capsize = 2\n",
    "            )\n",
    "\n",
    "a = 1\n",
    "b = len(df['Thickness (cm)'])\n",
    "c = 4\n",
    "\n",
    "xo = [1e-23,0.25] # Parâmetros Iniciais\n",
    "fit1 = optimization.curve_fit(f, \n",
    "                             df['Thickness (cm)'][a:c+1], \n",
    "                             df['DPA'][a:c+1], \n",
    "                             p0=xo, \n",
    "                             sigma=df['σDPA'][a:c+1], \n",
    "                             absolute_sigma=True\n",
    "                            )  \n",
    "C = fit1[0][0]\n",
    "μ = fit1[0][1]\n",
    "stdevs = np.sqrt(np.diag(fit1[1]))\n",
    "σC = stdevs[0]\n",
    "σμ = stdevs[1]\n",
    "uC = σC/C\n",
    "uμ = σμ/μ\n",
    "\n",
    "df_fit1 = pd.DataFrame({'C' : [C, σC, uC], \n",
    "                       'μ' : [μ,σμ, uμ]\n",
    "                      }, \n",
    "                      index = ['Valor', 'Incerteza Absoluta', 'Incerteza Relativa']\n",
    "                     )\n",
    "#display(df_fit1)\n",
    "x = np.linspace(df['Thickness (cm)'][a:c+1].min(),df['Thickness (cm)'][a:c+1].max(), 100)\n",
    "plt.plot(x, f(x, C, μ), \n",
    "         label='$y = (%5.0f \\pm %5.0f)  10^{%5.0f} e^{-(%5.2f \\pm %5.2f \\; \\mathrm{cm}^{-1}) x}$' % tuple([fman(C), fman(σC),fexp(C), μ, σμ]), \n",
    "         )\n",
    "\n",
    "\n",
    "xo = [1e-23,0.25] # Parâmetros Iniciais\n",
    "fit2 = optimization.curve_fit(f, \n",
    "                             df['Thickness (cm)'][c:b], \n",
    "                             df['DPA'][c:b], \n",
    "                             p0=xo, \n",
    "                             sigma=df['σDPA'][c:b], \n",
    "                             absolute_sigma=True\n",
    "                            )  \n",
    "C = fit2[0][0]\n",
    "μ = fit2[0][1]\n",
    "stdevs = np.sqrt(np.diag(fit2[1]))\n",
    "σC = stdevs[0]\n",
    "σμ = stdevs[1]\n",
    "uC = σC/C\n",
    "uμ = σμ/μ\n",
    "\n",
    "df_fit2 = pd.DataFrame({'C' : [C, σC, uC], \n",
    "                        'μ' : [μ,σμ, uμ]\n",
    "                      }, \n",
    "                      index = ['Valor', 'Incerteza Absoluta', 'Incerteza Relativa']\n",
    "                     )\n",
    "#display(df_fit2)\n",
    "x = np.linspace(df['Thickness (cm)'][c:b].min(),df['Thickness (cm)'][c:b].max(), 100)\n",
    "plt.plot(x, f(x, C, μ), \n",
    "         label='$y = (%5.0f \\pm %5.0f)  10^{%5.0f} e^{-(%5.2f \\pm %5.2f \\; \\mathrm{cm}^{-1}) x}$' % tuple([fman(C), fman(σC),fexp(C), μ, σμ]), \n",
    "         )\n",
    "\n",
    "plt.xlabel('Thickness (cm)')\n",
    "plt.ylabel('DPA/primaries')\n",
    "plt.yscale('log')\n",
    "plt.legend()"
   ]
  },
  {
   "cell_type": "code",
   "execution_count": 35,
   "id": "ce042afa-7829-4330-ad4d-2515fd346908",
   "metadata": {},
   "outputs": [
    {
     "ename": "TypeError",
     "evalue": "cannot do slice indexing on RangeIndex with these indexers [123 ± 4] of type str",
     "output_type": "error",
     "traceback": [
      "\u001b[0;31m---------------------------------------------------------------------------\u001b[0m",
      "\u001b[0;31mTypeError\u001b[0m                                 Traceback (most recent call last)",
      "\u001b[0;32m/tmp/ipykernel_456578/4118687407.py\u001b[0m in \u001b[0;36m<module>\u001b[0;34m\u001b[0m\n\u001b[1;32m      3\u001b[0m \u001b[0;34m\u001b[0m\u001b[0m\n\u001b[1;32m      4\u001b[0m par, cov = optimization.curve_fit(f, \n\u001b[0;32m----> 5\u001b[0;31m                                   \u001b[0mdf\u001b[0m\u001b[0;34m[\u001b[0m\u001b[0;34m'Thickness (cm)'\u001b[0m\u001b[0;34m]\u001b[0m\u001b[0;34m[\u001b[0m\u001b[0ma\u001b[0m\u001b[0;34m:\u001b[0m\u001b[0mc\u001b[0m\u001b[0;34m+\u001b[0m\u001b[0;36m1\u001b[0m\u001b[0;34m]\u001b[0m\u001b[0;34m,\u001b[0m\u001b[0;34m\u001b[0m\u001b[0;34m\u001b[0m\u001b[0m\n\u001b[0m\u001b[1;32m      6\u001b[0m                                   \u001b[0mdf\u001b[0m\u001b[0;34m[\u001b[0m\u001b[0;34m'DPA'\u001b[0m\u001b[0;34m]\u001b[0m\u001b[0;34m[\u001b[0m\u001b[0ma\u001b[0m\u001b[0;34m:\u001b[0m\u001b[0mc\u001b[0m\u001b[0;34m+\u001b[0m\u001b[0;36m1\u001b[0m\u001b[0;34m]\u001b[0m\u001b[0;34m,\u001b[0m\u001b[0;34m\u001b[0m\u001b[0;34m\u001b[0m\u001b[0m\n\u001b[1;32m      7\u001b[0m                                   \u001b[0mp0\u001b[0m \u001b[0;34m=\u001b[0m \u001b[0;34m[\u001b[0m\u001b[0;36m1e-23\u001b[0m\u001b[0;34m,\u001b[0m \u001b[0;36m0.25\u001b[0m\u001b[0;34m]\u001b[0m\u001b[0;34m,\u001b[0m\u001b[0;34m\u001b[0m\u001b[0;34m\u001b[0m\u001b[0m\n",
      "\u001b[0;32m~/anaconda3/lib/python3.9/site-packages/pandas/core/series.py\u001b[0m in \u001b[0;36m__getitem__\u001b[0;34m(self, key)\u001b[0m\n\u001b[1;32m    964\u001b[0m             \u001b[0;32mreturn\u001b[0m \u001b[0mself\u001b[0m\u001b[0;34m.\u001b[0m\u001b[0m_get_values\u001b[0m\u001b[0;34m(\u001b[0m\u001b[0mkey\u001b[0m\u001b[0;34m)\u001b[0m\u001b[0;34m\u001b[0m\u001b[0;34m\u001b[0m\u001b[0m\n\u001b[1;32m    965\u001b[0m \u001b[0;34m\u001b[0m\u001b[0m\n\u001b[0;32m--> 966\u001b[0;31m         \u001b[0;32mreturn\u001b[0m \u001b[0mself\u001b[0m\u001b[0;34m.\u001b[0m\u001b[0m_get_with\u001b[0m\u001b[0;34m(\u001b[0m\u001b[0mkey\u001b[0m\u001b[0;34m)\u001b[0m\u001b[0;34m\u001b[0m\u001b[0;34m\u001b[0m\u001b[0m\n\u001b[0m\u001b[1;32m    967\u001b[0m \u001b[0;34m\u001b[0m\u001b[0m\n\u001b[1;32m    968\u001b[0m     \u001b[0;32mdef\u001b[0m \u001b[0m_get_with\u001b[0m\u001b[0;34m(\u001b[0m\u001b[0mself\u001b[0m\u001b[0;34m,\u001b[0m \u001b[0mkey\u001b[0m\u001b[0;34m)\u001b[0m\u001b[0;34m:\u001b[0m\u001b[0;34m\u001b[0m\u001b[0;34m\u001b[0m\u001b[0m\n",
      "\u001b[0;32m~/anaconda3/lib/python3.9/site-packages/pandas/core/series.py\u001b[0m in \u001b[0;36m_get_with\u001b[0;34m(self, key)\u001b[0m\n\u001b[1;32m    971\u001b[0m             \u001b[0;31m# _convert_slice_indexer to determine if this slice is positional\u001b[0m\u001b[0;34m\u001b[0m\u001b[0;34m\u001b[0m\u001b[0m\n\u001b[1;32m    972\u001b[0m             \u001b[0;31m#  or label based, and if the latter, convert to positional\u001b[0m\u001b[0;34m\u001b[0m\u001b[0;34m\u001b[0m\u001b[0m\n\u001b[0;32m--> 973\u001b[0;31m             \u001b[0mslobj\u001b[0m \u001b[0;34m=\u001b[0m \u001b[0mself\u001b[0m\u001b[0;34m.\u001b[0m\u001b[0mindex\u001b[0m\u001b[0;34m.\u001b[0m\u001b[0m_convert_slice_indexer\u001b[0m\u001b[0;34m(\u001b[0m\u001b[0mkey\u001b[0m\u001b[0;34m,\u001b[0m \u001b[0mkind\u001b[0m\u001b[0;34m=\u001b[0m\u001b[0;34m\"getitem\"\u001b[0m\u001b[0;34m)\u001b[0m\u001b[0;34m\u001b[0m\u001b[0;34m\u001b[0m\u001b[0m\n\u001b[0m\u001b[1;32m    974\u001b[0m             \u001b[0;32mreturn\u001b[0m \u001b[0mself\u001b[0m\u001b[0;34m.\u001b[0m\u001b[0m_slice\u001b[0m\u001b[0;34m(\u001b[0m\u001b[0mslobj\u001b[0m\u001b[0;34m)\u001b[0m\u001b[0;34m\u001b[0m\u001b[0;34m\u001b[0m\u001b[0m\n\u001b[1;32m    975\u001b[0m         \u001b[0;32melif\u001b[0m \u001b[0misinstance\u001b[0m\u001b[0;34m(\u001b[0m\u001b[0mkey\u001b[0m\u001b[0;34m,\u001b[0m \u001b[0mABCDataFrame\u001b[0m\u001b[0;34m)\u001b[0m\u001b[0;34m:\u001b[0m\u001b[0;34m\u001b[0m\u001b[0;34m\u001b[0m\u001b[0m\n",
      "\u001b[0;32m~/anaconda3/lib/python3.9/site-packages/pandas/core/indexes/numeric.py\u001b[0m in \u001b[0;36m_convert_slice_indexer\u001b[0;34m(self, key, kind)\u001b[0m\n\u001b[1;32m    242\u001b[0m             \u001b[0;32mreturn\u001b[0m \u001b[0mself\u001b[0m\u001b[0;34m.\u001b[0m\u001b[0mslice_indexer\u001b[0m\u001b[0;34m(\u001b[0m\u001b[0mkey\u001b[0m\u001b[0;34m.\u001b[0m\u001b[0mstart\u001b[0m\u001b[0;34m,\u001b[0m \u001b[0mkey\u001b[0m\u001b[0;34m.\u001b[0m\u001b[0mstop\u001b[0m\u001b[0;34m,\u001b[0m \u001b[0mkey\u001b[0m\u001b[0;34m.\u001b[0m\u001b[0mstep\u001b[0m\u001b[0;34m,\u001b[0m \u001b[0mkind\u001b[0m\u001b[0;34m=\u001b[0m\u001b[0mkind\u001b[0m\u001b[0;34m)\u001b[0m\u001b[0;34m\u001b[0m\u001b[0;34m\u001b[0m\u001b[0m\n\u001b[1;32m    243\u001b[0m \u001b[0;34m\u001b[0m\u001b[0m\n\u001b[0;32m--> 244\u001b[0;31m         \u001b[0;32mreturn\u001b[0m \u001b[0msuper\u001b[0m\u001b[0;34m(\u001b[0m\u001b[0;34m)\u001b[0m\u001b[0;34m.\u001b[0m\u001b[0m_convert_slice_indexer\u001b[0m\u001b[0;34m(\u001b[0m\u001b[0mkey\u001b[0m\u001b[0;34m,\u001b[0m \u001b[0mkind\u001b[0m\u001b[0;34m=\u001b[0m\u001b[0mkind\u001b[0m\u001b[0;34m)\u001b[0m\u001b[0;34m\u001b[0m\u001b[0;34m\u001b[0m\u001b[0m\n\u001b[0m\u001b[1;32m    245\u001b[0m \u001b[0;34m\u001b[0m\u001b[0m\n\u001b[1;32m    246\u001b[0m     \u001b[0;34m@\u001b[0m\u001b[0mdoc\u001b[0m\u001b[0;34m(\u001b[0m\u001b[0mIndex\u001b[0m\u001b[0;34m.\u001b[0m\u001b[0m_maybe_cast_slice_bound\u001b[0m\u001b[0;34m)\u001b[0m\u001b[0;34m\u001b[0m\u001b[0;34m\u001b[0m\u001b[0m\n",
      "\u001b[0;32m~/anaconda3/lib/python3.9/site-packages/pandas/core/indexes/base.py\u001b[0m in \u001b[0;36m_convert_slice_indexer\u001b[0;34m(self, key, kind)\u001b[0m\n\u001b[1;32m   3717\u001b[0m             \"\"\"\n\u001b[1;32m   3718\u001b[0m             \u001b[0;32mif\u001b[0m \u001b[0mself\u001b[0m\u001b[0;34m.\u001b[0m\u001b[0mis_integer\u001b[0m\u001b[0;34m(\u001b[0m\u001b[0;34m)\u001b[0m \u001b[0;32mor\u001b[0m \u001b[0mis_index_slice\u001b[0m\u001b[0;34m:\u001b[0m\u001b[0;34m\u001b[0m\u001b[0;34m\u001b[0m\u001b[0m\n\u001b[0;32m-> 3719\u001b[0;31m                 \u001b[0mself\u001b[0m\u001b[0;34m.\u001b[0m\u001b[0m_validate_indexer\u001b[0m\u001b[0;34m(\u001b[0m\u001b[0;34m\"slice\"\u001b[0m\u001b[0;34m,\u001b[0m \u001b[0mkey\u001b[0m\u001b[0;34m.\u001b[0m\u001b[0mstart\u001b[0m\u001b[0;34m,\u001b[0m \u001b[0;34m\"getitem\"\u001b[0m\u001b[0;34m)\u001b[0m\u001b[0;34m\u001b[0m\u001b[0;34m\u001b[0m\u001b[0m\n\u001b[0m\u001b[1;32m   3720\u001b[0m                 \u001b[0mself\u001b[0m\u001b[0;34m.\u001b[0m\u001b[0m_validate_indexer\u001b[0m\u001b[0;34m(\u001b[0m\u001b[0;34m\"slice\"\u001b[0m\u001b[0;34m,\u001b[0m \u001b[0mkey\u001b[0m\u001b[0;34m.\u001b[0m\u001b[0mstop\u001b[0m\u001b[0;34m,\u001b[0m \u001b[0;34m\"getitem\"\u001b[0m\u001b[0;34m)\u001b[0m\u001b[0;34m\u001b[0m\u001b[0;34m\u001b[0m\u001b[0m\n\u001b[1;32m   3721\u001b[0m                 \u001b[0mself\u001b[0m\u001b[0;34m.\u001b[0m\u001b[0m_validate_indexer\u001b[0m\u001b[0;34m(\u001b[0m\u001b[0;34m\"slice\"\u001b[0m\u001b[0;34m,\u001b[0m \u001b[0mkey\u001b[0m\u001b[0;34m.\u001b[0m\u001b[0mstep\u001b[0m\u001b[0;34m,\u001b[0m \u001b[0;34m\"getitem\"\u001b[0m\u001b[0;34m)\u001b[0m\u001b[0;34m\u001b[0m\u001b[0;34m\u001b[0m\u001b[0m\n",
      "\u001b[0;32m~/anaconda3/lib/python3.9/site-packages/pandas/core/indexes/base.py\u001b[0m in \u001b[0;36m_validate_indexer\u001b[0;34m(self, form, key, kind)\u001b[0m\n\u001b[1;32m   5717\u001b[0m \u001b[0;34m\u001b[0m\u001b[0m\n\u001b[1;32m   5718\u001b[0m         \u001b[0;32mif\u001b[0m \u001b[0mkey\u001b[0m \u001b[0;32mis\u001b[0m \u001b[0;32mnot\u001b[0m \u001b[0;32mNone\u001b[0m \u001b[0;32mand\u001b[0m \u001b[0;32mnot\u001b[0m \u001b[0mis_integer\u001b[0m\u001b[0;34m(\u001b[0m\u001b[0mkey\u001b[0m\u001b[0;34m)\u001b[0m\u001b[0;34m:\u001b[0m\u001b[0;34m\u001b[0m\u001b[0;34m\u001b[0m\u001b[0m\n\u001b[0;32m-> 5719\u001b[0;31m             \u001b[0;32mraise\u001b[0m \u001b[0mself\u001b[0m\u001b[0;34m.\u001b[0m\u001b[0m_invalid_indexer\u001b[0m\u001b[0;34m(\u001b[0m\u001b[0mform\u001b[0m\u001b[0;34m,\u001b[0m \u001b[0mkey\u001b[0m\u001b[0;34m)\u001b[0m\u001b[0;34m\u001b[0m\u001b[0;34m\u001b[0m\u001b[0m\n\u001b[0m\u001b[1;32m   5720\u001b[0m \u001b[0;34m\u001b[0m\u001b[0m\n\u001b[1;32m   5721\u001b[0m     \u001b[0;32mdef\u001b[0m \u001b[0m_maybe_cast_slice_bound\u001b[0m\u001b[0;34m(\u001b[0m\u001b[0mself\u001b[0m\u001b[0;34m,\u001b[0m \u001b[0mlabel\u001b[0m\u001b[0;34m,\u001b[0m \u001b[0mside\u001b[0m\u001b[0;34m:\u001b[0m \u001b[0mstr_t\u001b[0m\u001b[0;34m,\u001b[0m \u001b[0mkind\u001b[0m\u001b[0;34m=\u001b[0m\u001b[0mno_default\u001b[0m\u001b[0;34m)\u001b[0m\u001b[0;34m:\u001b[0m\u001b[0;34m\u001b[0m\u001b[0;34m\u001b[0m\u001b[0m\n",
      "\u001b[0;31mTypeError\u001b[0m: cannot do slice indexing on RangeIndex with these indexers [123 ± 4] of type str"
     ]
    }
   ],
   "source": [
    "def f(t, C, μ): # Função a ser ajustada: Lei de LAMBERT-bEER\n",
    "    return C*np.exp(-μ*t)\n",
    "\n",
    "par, cov = optimization.curve_fit(f, \n",
    "                                  df['Thickness (cm)'][a:c+1], \n",
    "                                  df['DPA'][a:c+1], \n",
    "                                  p0 = [1e-23, 0.25], \n",
    "                                  sigma = df['σDPA'][a:c+1], \n",
    "                                  absolute_sigma=True\n",
    "                                 )  \n",
    "var = np.diag(cov)\n",
    "\n",
    "fit = pd.DataFrame({ 'Params': ['C', 'μ'], 'Values': par, 'Variance': var, 'StdDeviation': np.sqrt(var)})\n",
    "display(fit)\n",
    "#fit['Result'] = [0, 1]"
   ]
  },
  {
   "cell_type": "code",
   "execution_count": 30,
   "id": "7e44cc6a-a4aa-4e6f-a521-bc51345bb654",
   "metadata": {},
   "outputs": [
    {
     "data": {
      "text/plain": [
       "'123 ± 4'"
      ]
     },
     "execution_count": 30,
     "metadata": {},
     "output_type": "execute_result"
    }
   ],
   "source": [
    "a = sf.round(123,uncertainty=4)\n",
    "a"
   ]
  },
  {
   "cell_type": "code",
   "execution_count": null,
   "id": "6f6c516f-6a89-450f-b290-7b0c2f8f2fc2",
   "metadata": {},
   "outputs": [],
   "source": []
  }
 ],
 "metadata": {
  "kernelspec": {
   "display_name": "Python 3 (ipykernel)",
   "language": "python",
   "name": "python3"
  },
  "language_info": {
   "codemirror_mode": {
    "name": "ipython",
    "version": 3
   },
   "file_extension": ".py",
   "mimetype": "text/x-python",
   "name": "python",
   "nbconvert_exporter": "python",
   "pygments_lexer": "ipython3",
   "version": "3.9.7"
  }
 },
 "nbformat": 4,
 "nbformat_minor": 5
}
