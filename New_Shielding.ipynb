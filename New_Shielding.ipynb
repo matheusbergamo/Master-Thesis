{
 "cells": [
  {
   "cell_type": "code",
   "execution_count": 2,
   "id": "642a7f86",
   "metadata": {},
   "outputs": [],
   "source": [
    "import numpy as np\n",
    "import matplotlib.pyplot as plt\n",
    "import pandas as pd\n",
    "import scipy.optimize as sci\n",
    "from scipy import constants\n",
    "from scipy.constants import physical_constants as pc\n",
    "from scipy.integrate import quad\n",
    "import scipy.optimize as opt\n",
    "import sigfig as sf"
   ]
  },
  {
   "cell_type": "code",
   "execution_count": 4,
   "id": "cc475e4e",
   "metadata": {},
   "outputs": [],
   "source": [
    "plt.style.use(['science', 'notebook', 'grid'])\n",
    "tex_fonts = {\n",
    "    \"text.usetex\": True,# Use LaTeX to write all text\n",
    "    \"font.family\": \"serif\",\n",
    "    # # Use 9pt font in plots, to match 9pt caption fontsize in RevTeX\n",
    "    # \"axes.labelsize\": 9,\n",
    "    # \"font.size\": 9,\n",
    "    # # Make the legend/label fonts a little smaller\n",
    "    # \"legend.fontsize\": 8,\n",
    "    # \"figure.titlesize\": 8,\n",
    "    # \"xtick.labelsize\": 8,\n",
    "    # \"ytick.labelsize\": 8,\n",
    "    \"lines.linewidth\": 1,\n",
    "    \"xtick.major.width\": 0.5,\n",
    "    \"xtick.minor.width\": 0.5,\n",
    "    \"ytick.major.width\": 0.5,\n",
    "    \"ytick.minor.width\": 0.5,\n",
    "    \"axes.linewidth\": 0.5\n",
    "}\n",
    "plt.rcParams.update(tex_fonts)"
   ]
  },
  {
   "cell_type": "code",
   "execution_count": 16,
   "id": "916cb5e2",
   "metadata": {},
   "outputs": [
    {
     "name": "stdout",
     "output_type": "stream",
     "text": [
      "     Shld           DPA   rel_unc       abs_unc\n",
      "11   20.0  2.492180e-25  0.085639  2.134276e-26\n",
      "12   40.0  7.205520e-26  0.280216  2.019102e-26\n",
      "13   60.0  5.104200e-26  0.200081  1.021253e-26\n",
      "14   80.0  2.651940e-26  0.511581  1.356682e-26\n",
      "15  100.0  1.146562e-26  0.489014  5.606849e-27\n"
     ]
    }
   ],
   "source": [
    "df = pd.read_csv('Shielding.csv', comment='#', header=None)\n",
    "df.columns = ['Shld', 'DPA', 'rel_unc']\n",
    "df['DPA'] = 2*df['DPA'] # Devido ao foto que metade dos primários são direcionados diretamente ao blackhole\n",
    "df['abs_unc'] = df['DPA']*df['rel_unc']\n",
    "\n",
    "df = df.iloc[11:18]\n",
    "print(df)"
   ]
  },
  {
   "cell_type": "code",
   "execution_count": 17,
   "id": "5eb0f4f8",
   "metadata": {},
   "outputs": [
    {
     "data": {
      "image/png": "[encoded data removed]",
      "text/plain": [
       "<Figure size 576x432 with 1 Axes>"
      ]
     },
     "metadata": {
      "needs_background": "light"
     },
     "output_type": "display_data"
    }
   ],
   "source": [
    "plt.errorbar(df['Shld'],                       # x data\n",
    "             df['DPA'],                        # y data\n",
    "             xerr = None,                      # Uncertainty on x values\n",
    "             yerr = df['abs_unc'],             # Uncertainty on y values\n",
    "             fmt = 'o',\n",
    "             ecolor = 'black', \n",
    "             capsize = 2\n",
    "            )\n",
    "plt.xlabel('Shielding thickness (cm)')\n",
    "plt.ylabel('DPA/primaries')\n",
    "#plt.xscale('log')\n",
    "plt.yscale('log')"
   ]
  },
  {
   "cell_type": "code",
   "execution_count": null,
   "id": "9d0da68f",
   "metadata": {},
   "outputs": [],
   "source": []
  }
 ],
 "metadata": {
  "kernelspec": {
   "display_name": "Python 3 (ipykernel)",
   "language": "python",
   "name": "python3"
  },
  "language_info": {
   "codemirror_mode": {
    "name": "ipython",
    "version": 3
   },
   "file_extension": ".py",
   "mimetype": "text/x-python",
   "name": "python",
   "nbconvert_exporter": "python",
   "pygments_lexer": "ipython3",
   "version": "3.9.7"
  }
 },
 "nbformat": 4,
 "nbformat_minor": 5
}
