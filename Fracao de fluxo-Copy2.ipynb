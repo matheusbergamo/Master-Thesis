{
 "cells": [
  {
   "cell_type": "code",
   "execution_count": 1,
   "id": "03337b6f-b5cc-4e79-894f-49bf0df804ce",
   "metadata": {
    "jupyter": {
     "source_hidden": true
    },
    "tags": []
   },
   "outputs": [],
   "source": [
    "import numpy as np\n",
    "import scipy.optimize as sci\n",
    "from scipy import constants\n",
    "#import sigfig as sf # Pacote para expressar incertezas e dígitos significativos\n",
    "import pandas as pd\n",
    "from scipy.integrate import quad\n",
    "\n",
    "# Module of Dr. Sato's Analytical Model\n",
    "import SatoLowAltNeutronBkg as sato"
   ]
  },
  {
   "cell_type": "code",
   "execution_count": 2,
   "id": "5081bbb2-c376-4c61-a4ea-06fcc5d7204e",
   "metadata": {
    "jupyter": {
     "source_hidden": true
    },
    "tags": []
   },
   "outputs": [],
   "source": [
    "import matplotlib.pyplot as plt\n",
    "plt.style.use(['science', 'notebook', 'grid'])\n",
    "tex_fonts = {\n",
    "    # Use LaTeX to write all text\n",
    "    \"text.usetex\": True,\n",
    "    \"font.family\": \"serif\",\n",
    "    # Use 9pt font in plots, to match 9pt caption fontsize in RevTeX\n",
    "    \"axes.labelsize\": 12,\n",
    "    \"font.size\": 12,\n",
    "    # Make the legend/label fonts a little smaller\n",
    "    \"legend.fontsize\": 8,\n",
    "    \"figure.titlesize\": 8,\n",
    "    \"xtick.labelsize\": 8,\n",
    "    \"ytick.labelsize\": 8,\n",
    "    \"lines.linewidth\": 1,\n",
    "    \"xtick.major.width\": 0.5,\n",
    "    \"xtick.minor.width\": 0.5,\n",
    "    \"ytick.major.width\": 0.5,\n",
    "    \"ytick.minor.width\": 0.5,\n",
    "    \"axes.linewidth\": 0.5\n",
    "}\n",
    "#plt.rcParams.update(tex_fonts)\n",
    "\n",
    "from my_plot import set_size\n",
    "plt.rcParams[\"figure.figsize\"] = set_size(500)"
   ]
  },
  {
   "cell_type": "code",
   "execution_count": 6,
   "id": "42a57963-7e64-47e5-aade-452bb8b25d59",
   "metadata": {
    "tags": []
   },
   "outputs": [
    {
     "data": {
      "text/plain": [
       "0.008193178421262026"
      ]
     },
     "execution_count": 6,
     "metadata": {},
     "output_type": "execute_result"
    }
   ],
   "source": [
    "x = np.logspace(-9, 5, 10000)\n",
    "y_leth = sato.EΦ(x,1034,9.76,0.25)\n",
    "y_flux = y_leth/x\n",
    "Φ_tot = np.trapz(y_flux,x, 0.0001)\n",
    "Φ_tot"
   ]
  },
  {
   "cell_type": "code",
   "execution_count": 10,
   "id": "34fa717c-9713-4e5a-8dc0-cb134416105a",
   "metadata": {},
   "outputs": [
    {
     "data": {
      "text/plain": [
       "0.35297966933458275"
      ]
     },
     "execution_count": 10,
     "metadata": {},
     "output_type": "execute_result"
    }
   ],
   "source": [
    "x = np.logspace(1, 5, 10000)\n",
    "y_leth = sato.EΦ(x,1034,9.76,0.25)\n",
    "y_flux = y_leth/x\n",
    "Φ = np.trapz(y_flux,x, 0.0001)\n",
    "Φ/Φ_tot"
   ]
  },
  {
   "cell_type": "code",
   "execution_count": 11,
   "id": "5edc16af-82ba-44c8-8828-c7433e2e0d75",
   "metadata": {},
   "outputs": [
    {
     "data": {
      "text/plain": [
       "0.4059266197347701"
      ]
     },
     "execution_count": 11,
     "metadata": {},
     "output_type": "execute_result"
    }
   ],
   "source": [
    "x = np.logspace(1, 5, 10000)\n",
    "y_leth = sato.EΦ(x,1034,9.76,0.25)*1.15\n",
    "y_flux = y_leth/x\n",
    "Φ = np.trapz(y_flux,x, 0.0001)\n",
    "Φ/Φ_tot"
   ]
  },
  {
   "cell_type": "code",
   "execution_count": 12,
   "id": "52feca87-65b1-45c6-babd-142dd9e92073",
   "metadata": {},
   "outputs": [
    {
     "data": {
      "text/plain": [
       "0.3000327189343953"
      ]
     },
     "execution_count": 12,
     "metadata": {},
     "output_type": "execute_result"
    }
   ],
   "source": [
    "x = np.logspace(1, 5, 10000)\n",
    "y_leth = sato.EΦ(x,1034,9.76,0.25)*0.85\n",
    "y_flux = y_leth/x\n",
    "Φ = np.trapz(y_flux,x, 0.0001)\n",
    "Φ/Φ_tot"
   ]
  },
  {
   "cell_type": "code",
   "execution_count": 7,
   "id": "a2212da3-b0d9-4610-b569-f029a6181639",
   "metadata": {
    "collapsed": true,
    "jupyter": {
     "outputs_hidden": true
    },
    "tags": []
   },
   "outputs": [
    {
     "data": {
      "text/html": [
       "<div>\n",
       "<style scoped>\n",
       "    .dataframe tbody tr th:only-of-type {\n",
       "        vertical-align: middle;\n",
       "    }\n",
       "\n",
       "    .dataframe tbody tr th {\n",
       "        vertical-align: top;\n",
       "    }\n",
       "\n",
       "    .dataframe thead th {\n",
       "        text-align: right;\n",
       "    }\n",
       "</style>\n",
       "<table border=\"1\" class=\"dataframe\">\n",
       "  <thead>\n",
       "    <tr style=\"text-align: right;\">\n",
       "      <th></th>\n",
       "      <th>Emin</th>\n",
       "      <th>Emax</th>\n",
       "      <th>Fluence</th>\n",
       "    </tr>\n",
       "  </thead>\n",
       "  <tbody>\n",
       "    <tr>\n",
       "      <th>0</th>\n",
       "      <td>1.000000E-08</td>\n",
       "      <td>1.203752E-08</td>\n",
       "      <td>3.001268E+03</td>\n",
       "    </tr>\n",
       "    <tr>\n",
       "      <th>1</th>\n",
       "      <td>1.203752E-08</td>\n",
       "      <td>1.449018E-08</td>\n",
       "      <td>3.296521E+03</td>\n",
       "    </tr>\n",
       "    <tr>\n",
       "      <th>2</th>\n",
       "      <td>1.449018E-08</td>\n",
       "      <td>1.744258E-08</td>\n",
       "      <td>3.557164E+03</td>\n",
       "    </tr>\n",
       "    <tr>\n",
       "      <th>3</th>\n",
       "      <td>1.744258E-08</td>\n",
       "      <td>2.099654E-08</td>\n",
       "      <td>3.757028E+03</td>\n",
       "    </tr>\n",
       "    <tr>\n",
       "      <th>4</th>\n",
       "      <td>2.099654E-08</td>\n",
       "      <td>2.527462E-08</td>\n",
       "      <td>3.866891E+03</td>\n",
       "    </tr>\n",
       "    <tr>\n",
       "      <th>...</th>\n",
       "      <td>...</td>\n",
       "      <td>...</td>\n",
       "      <td>...</td>\n",
       "    </tr>\n",
       "    <tr>\n",
       "      <th>144</th>\n",
       "      <td>3.956539E+03</td>\n",
       "      <td>4.762690E+03</td>\n",
       "      <td>2.800149E-09</td>\n",
       "    </tr>\n",
       "    <tr>\n",
       "      <th>145</th>\n",
       "      <td>4.762690E+03</td>\n",
       "      <td>5.733097E+03</td>\n",
       "      <td>1.978671E-09</td>\n",
       "    </tr>\n",
       "    <tr>\n",
       "      <th>146</th>\n",
       "      <td>5.733097E+03</td>\n",
       "      <td>6.901225E+03</td>\n",
       "      <td>1.392670E-09</td>\n",
       "    </tr>\n",
       "    <tr>\n",
       "      <th>147</th>\n",
       "      <td>6.901225E+03</td>\n",
       "      <td>8.307361E+03</td>\n",
       "      <td>9.768735E-10</td>\n",
       "    </tr>\n",
       "    <tr>\n",
       "      <th>148</th>\n",
       "      <td>8.307361E+03</td>\n",
       "      <td>1.000000E+04</td>\n",
       "      <td>6.832118E-10</td>\n",
       "    </tr>\n",
       "  </tbody>\n",
       "</table>\n",
       "<p>149 rows × 3 columns</p>\n",
       "</div>"
      ],
      "text/plain": [
       "            Emin         Emax      Fluence\n",
       "0   1.000000E-08 1.203752E-08 3.001268E+03\n",
       "1   1.203752E-08 1.449018E-08 3.296521E+03\n",
       "2   1.449018E-08 1.744258E-08 3.557164E+03\n",
       "3   1.744258E-08 2.099654E-08 3.757028E+03\n",
       "4   2.099654E-08 2.527462E-08 3.866891E+03\n",
       "..           ...          ...          ...\n",
       "144 3.956539E+03 4.762690E+03 2.800149E-09\n",
       "145 4.762690E+03 5.733097E+03 1.978671E-09\n",
       "146 5.733097E+03 6.901225E+03 1.392670E-09\n",
       "147 6.901225E+03 8.307361E+03 9.768735E-10\n",
       "148 8.307361E+03 1.000000E+04 6.832118E-10\n",
       "\n",
       "[149 rows x 3 columns]"
      ]
     },
     "execution_count": 7,
     "metadata": {},
     "output_type": "execute_result"
    }
   ],
   "source": [
    "a = np.linspace(-8, 4, 150)\n",
    "arr = []\n",
    "for i in np.arange(0, np.size(a) - 1):\n",
    "    t = np.logspace(a[i], a[i + 1], 100)\n",
    "    y_leth = sato.EΦ(t,1034,9.76,0.25)\n",
    "    y_flux = y_leth / t**2\n",
    "    y_fluence_year = y_flux*365*24*3600*1e3 # O fator 1e3 é devido ao fato de que o código pede unidades em GeV\n",
    "    F = np.trapz(y_flux, t, 0.001)\n",
    "    arr_elem = [\"{:E}\".format(10**a[i]), \"{:E}\".format(10**a[i + 1]), \"{:E}\".format(F)]\n",
    "    arr.append(arr_elem)\n",
    "\n",
    "column_values = ['Emin', 'Emax', 'Fluence'] # Fluence = dF/dE [particles/cm²GeV]\n",
    "df = pd.DataFrame(data = arr, \n",
    "                  columns = column_values)\n",
    "\n",
    "df = df.astype(float) # Converte os strings em floats\n",
    "pd.options.display.float_format = '{:E}'.format # Formatação dos floats\n",
    "df.to_csv('/home/mbergamo/Sim/Sim9/spec.dat', sep = ' ', float_format = '{:E}'.format, header = None, index = None)\n",
    "df"
   ]
  },
  {
   "cell_type": "code",
   "execution_count": 4,
   "id": "894d4a18-1a64-4af6-a592-47cf40cf996d",
   "metadata": {},
   "outputs": [
    {
     "data": {
      "text/html": [
       "<div>\n",
       "<style scoped>\n",
       "    .dataframe tbody tr th:only-of-type {\n",
       "        vertical-align: middle;\n",
       "    }\n",
       "\n",
       "    .dataframe tbody tr th {\n",
       "        vertical-align: top;\n",
       "    }\n",
       "\n",
       "    .dataframe thead th {\n",
       "        text-align: right;\n",
       "    }\n",
       "</style>\n",
       "<table border=\"1\" class=\"dataframe\">\n",
       "  <thead>\n",
       "    <tr style=\"text-align: right;\">\n",
       "      <th></th>\n",
       "      <th>Emin</th>\n",
       "      <th>Emax</th>\n",
       "      <th>Fluence</th>\n",
       "    </tr>\n",
       "  </thead>\n",
       "  <tbody>\n",
       "    <tr>\n",
       "      <th>0</th>\n",
       "      <td>1.000000E-09</td>\n",
       "      <td>1.003229E-09</td>\n",
       "      <td>7.823750E+00</td>\n",
       "    </tr>\n",
       "    <tr>\n",
       "      <th>1</th>\n",
       "      <td>1.003229E-09</td>\n",
       "      <td>1.006469E-09</td>\n",
       "      <td>7.845798E+00</td>\n",
       "    </tr>\n",
       "    <tr>\n",
       "      <th>2</th>\n",
       "      <td>1.006469E-09</td>\n",
       "      <td>1.009719E-09</td>\n",
       "      <td>7.867910E+00</td>\n",
       "    </tr>\n",
       "    <tr>\n",
       "      <th>3</th>\n",
       "      <td>1.009719E-09</td>\n",
       "      <td>1.012979E-09</td>\n",
       "      <td>7.890086E+00</td>\n",
       "    </tr>\n",
       "    <tr>\n",
       "      <th>4</th>\n",
       "      <td>1.012979E-09</td>\n",
       "      <td>1.016250E-09</td>\n",
       "      <td>7.912325E+00</td>\n",
       "    </tr>\n",
       "    <tr>\n",
       "      <th>...</th>\n",
       "      <td>...</td>\n",
       "      <td>...</td>\n",
       "      <td>...</td>\n",
       "    </tr>\n",
       "    <tr>\n",
       "      <th>9994</th>\n",
       "      <td>9.840095E+04</td>\n",
       "      <td>9.871870E+04</td>\n",
       "      <td>1.054065E-13</td>\n",
       "    </tr>\n",
       "    <tr>\n",
       "      <th>9995</th>\n",
       "      <td>9.871870E+04</td>\n",
       "      <td>9.903748E+04</td>\n",
       "      <td>1.047274E-13</td>\n",
       "    </tr>\n",
       "    <tr>\n",
       "      <th>9996</th>\n",
       "      <td>9.903748E+04</td>\n",
       "      <td>9.935729E+04</td>\n",
       "      <td>1.040527E-13</td>\n",
       "    </tr>\n",
       "    <tr>\n",
       "      <th>9997</th>\n",
       "      <td>9.935729E+04</td>\n",
       "      <td>9.967812E+04</td>\n",
       "      <td>1.033824E-13</td>\n",
       "    </tr>\n",
       "    <tr>\n",
       "      <th>9998</th>\n",
       "      <td>9.967812E+04</td>\n",
       "      <td>1.000000E+05</td>\n",
       "      <td>1.027163E-13</td>\n",
       "    </tr>\n",
       "  </tbody>\n",
       "</table>\n",
       "<p>9999 rows × 3 columns</p>\n",
       "</div>"
      ],
      "text/plain": [
       "             Emin         Emax      Fluence\n",
       "0    1.000000E-09 1.003229E-09 7.823750E+00\n",
       "1    1.003229E-09 1.006469E-09 7.845798E+00\n",
       "2    1.006469E-09 1.009719E-09 7.867910E+00\n",
       "3    1.009719E-09 1.012979E-09 7.890086E+00\n",
       "4    1.012979E-09 1.016250E-09 7.912325E+00\n",
       "...           ...          ...          ...\n",
       "9994 9.840095E+04 9.871870E+04 1.054065E-13\n",
       "9995 9.871870E+04 9.903748E+04 1.047274E-13\n",
       "9996 9.903748E+04 9.935729E+04 1.040527E-13\n",
       "9997 9.935729E+04 9.967812E+04 1.033824E-13\n",
       "9998 9.967812E+04 1.000000E+05 1.027163E-13\n",
       "\n",
       "[9999 rows x 3 columns]"
      ]
     },
     "execution_count": 4,
     "metadata": {},
     "output_type": "execute_result"
    }
   ],
   "source": [
    "a = np.linspace(-9, 5, int(1e4))\n",
    "arr = []\n",
    "for i in np.arange(0, np.size(a) - 1):\n",
    "    t = np.logspace(a[i], a[i + 1], 100)\n",
    "    y_leth = sato.EΦ(t,1034,9.76,0.25)\n",
    "    y_flux = y_leth / t**2\n",
    "    y_fluence_year = y_flux*365*24*3600*1e3 # O fator 1e3 é devido ao fato de que o código pede unidades em GeV\n",
    "    F = np.trapz(y_flux, t, 0.001)\n",
    "    arr_elem = [\"{:E}\".format(10**a[i]), \"{:E}\".format(10**a[i + 1]), \"{:E}\".format(F)]\n",
    "    arr.append(arr_elem)\n",
    "\n",
    "column_values = ['Emin', 'Emax', 'Fluence'] # Fluence = dF/dE [particles/cm²GeV]\n",
    "df = pd.DataFrame(data = arr, \n",
    "                  columns = column_values)\n",
    "\n",
    "df = df.astype(float) # Converte os strings em floats\n",
    "pd.options.display.float_format = '{:E}'.format # Formatação dos floats\n",
    "df.to_csv('/home/mbergamo/Sim/Natal5/spec.dat', sep = ' ', float_format = '{:E}'.format, header = None, index = None)\n",
    "df"
   ]
  },
  {
   "cell_type": "code",
   "execution_count": 5,
   "id": "32f51bf1-418e-46a8-ba61-e06d500e62f7",
   "metadata": {},
   "outputs": [
    {
     "data": {
      "image/png": "[encoded data removed]",
      "text/plain": [
       "<Figure size 498.132x307.863 with 1 Axes>"
      ]
     },
     "metadata": {
      "needs_background": "light"
     },
     "output_type": "display_data"
    }
   ],
   "source": [
    "mean = (df.Emax + df.Emin)/2\n",
    "interval = (df.Emax - df.Emin)\n",
    "mean = mean.to_numpy()\n",
    "interval = interval.to_numpy()\n",
    "fluence = df.Fluence.to_numpy()\n",
    "plt.bar(mean, fluence, interval)#, edgecolor='black')\n",
    "plt.xscale('log')\n",
    "#plt.yscale('log')"
   ]
  },
  {
   "cell_type": "code",
   "execution_count": 24,
   "id": "8613483b-193a-4ec3-8403-584265b676e5",
   "metadata": {},
   "outputs": [
    {
     "data": {
      "image/png": "[encoded data removed]",
      "text/plain": [
       "<Figure size 498.132x307.863 with 1 Axes>"
      ]
     },
     "metadata": {
      "needs_background": "light"
     },
     "output_type": "display_data"
    }
   ],
   "source": [
    "x = np.logspace(1, 3, 10000)\n",
    "y_leth = sato.EΦ(x,1034,9.76,0.25)\n",
    "y_flux = y_leth/x\n",
    "plt.plot(x, y_leth)\n",
    "#plt.plot(x, y_flux)\n",
    "plt.xscale('log')\n",
    "plt.yscale('log')"
   ]
  },
  {
   "cell_type": "code",
   "execution_count": 25,
   "id": "020287c0-6e4a-4a98-b095-bf51e1e6d740",
   "metadata": {},
   "outputs": [
    {
     "data": {
      "text/plain": [
       "(array([4641.,  108.,   63.,   44.,   35.,   28.,   24.,   21.,   18.,\n",
       "          17.]),\n",
       " array([6.46900e-12, 6.42780e+01, 1.28556e+02, 1.92834e+02, 2.57112e+02,\n",
       "        3.21390e+02, 3.85668e+02, 4.49946e+02, 5.14224e+02, 5.78502e+02,\n",
       "        6.42780e+02]),\n",
       " <BarContainer object of 10 artists>)"
      ]
     },
     "execution_count": 25,
     "metadata": {},
     "output_type": "execute_result"
    },
    {
     "data": {
      "image/png": "[encoded data removed]",
      "text/plain": [
       "<Figure size 498.132x307.863 with 1 Axes>"
      ]
     },
     "metadata": {
      "needs_background": "light"
     },
     "output_type": "display_data"
    }
   ],
   "source": [
    "plt.hist(interval)"
   ]
  },
  {
   "cell_type": "code",
   "execution_count": null,
   "id": "8cc034ef-88cc-44ec-b083-1b758b86d6d2",
   "metadata": {},
   "outputs": [],
   "source": []
  },
  {
   "cell_type": "code",
   "execution_count": null,
   "id": "e9a609b7-4006-4c14-aa71-84b4f77fc246",
   "metadata": {},
   "outputs": [],
   "source": []
  }
 ],
 "metadata": {
  "kernelspec": {
   "display_name": "Python 3 (ipykernel)",
   "language": "python",
   "name": "python3"
  },
  "language_info": {
   "codemirror_mode": {
    "name": "ipython",
    "version": 3
   },
   "file_extension": ".py",
   "mimetype": "text/x-python",
   "name": "python",
   "nbconvert_exporter": "python",
   "pygments_lexer": "ipython3",
   "version": "3.9.7"
  }
 },
 "nbformat": 4,
 "nbformat_minor": 5
}
